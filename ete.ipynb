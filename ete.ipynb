{
 "cells": [
  {
   "cell_type": "code",
   "execution_count": 1,
   "id": "4a75b17c",
   "metadata": {},
   "outputs": [
    {
     "name": "stdout",
     "output_type": "stream",
     "text": [
      "✅ PCA model successfully saved!\n"
     ]
    }
   ],
   "source": [
    "import numpy as np\n",
    "from sklearn.decomposition import PCA\n",
    "import pickle\n",
    "import json\n",
    "\n",
    "# Load original 512D embeddings\n",
    "with open(\"face_embeddings.json\", \"r\") as f:\n",
    "    data = json.load(f)\n",
    "\n",
    "embeddings = np.array(data[\"embeddings\"])\n",
    "\n",
    "# Create and fit PCA model to reduce from 512 to 128 dimensions\n",
    "pca = PCA(n_components=128)\n",
    "pca.fit(embeddings)\n",
    "\n",
    "# Save using your current environment\n",
    "with open(\"pca_512_to_128.pkl\", \"wb\") as f:\n",
    "    pickle.dump(pca, f)\n",
    "\n",
    "print(\"✅ PCA model successfully saved!\")\n"
   ]
  },
  {
   "cell_type": "code",
   "execution_count": null,
   "id": "ade94221",
   "metadata": {},
   "outputs": [],
   "source": [
    "from modules.pca_reducer import load_pca_model\n",
    "\n",
    "# Load PCA\n",
    "pca = load_pca_model(\"pca_512_to_128.pkl\")\n",
    "\n",
    "# Assume you have: `embedding_512` from InsightFace\n",
    "embedding_128 = pca.transform([embedding_512])[0]\n"
   ]
  },
  {
   "cell_type": "code",
   "execution_count": 2,
   "id": "f11fd30b",
   "metadata": {},
   "outputs": [
    {
     "name": "stdout",
     "output_type": "stream",
     "text": [
      "[INFO] Loaded trained PCA for 128D reduction.\n",
      "[DONE] Converted 5004 embeddings to 128D and saved to face_embeddings_128.json\n"
     ]
    }
   ],
   "source": [
    "import json\n",
    "import numpy as np\n",
    "from modules.pca_reducer import load_pca_model\n",
    "\n",
    "# File paths\n",
    "input_file = \"face_embeddings.json\"\n",
    "output_file = \"face_embeddings_128.json\"\n",
    "pca_model_path = \"pca_512_to_128.pkl\"\n",
    "\n",
    "# Load 512D embeddings\n",
    "with open(input_file, \"r\") as f:\n",
    "    data = json.load(f)\n",
    "    embeddings_512 = np.array(data[\"embeddings\"])\n",
    "    labels = data[\"labels\"]\n",
    "\n",
    "# Load trained PCA model\n",
    "pca = load_pca_model(pca_model_path)\n",
    "\n",
    "# Convert to 128D\n",
    "embeddings_128 = pca.transform(embeddings_512)\n",
    "\n",
    "# Save to new JSON\n",
    "output_data = {\n",
    "    \"embeddings\": embeddings_128.tolist(),\n",
    "    \"labels\": labels\n",
    "}\n",
    "\n",
    "with open(output_file, \"w\") as f:\n",
    "    json.dump(output_data, f)\n",
    "\n",
    "print(f\"[DONE] Converted {len(embeddings_128)} embeddings to 128D and saved to {output_file}\")\n"
   ]
  },
  {
   "cell_type": "code",
   "execution_count": null,
   "id": "491cbb3d",
   "metadata": {},
   "outputs": [],
   "source": []
  },
  {
   "cell_type": "code",
   "execution_count": 5,
   "id": "65d7ef32",
   "metadata": {},
   "outputs": [
    {
     "name": "stdout",
     "output_type": "stream",
     "text": [
      "✅ Saved 12320 values to 'projection_matrix.txt'\n"
     ]
    }
   ],
   "source": [
    "import numpy as np\n",
    "\n",
    "# Load all float32 values from the .dat file\n",
    "data = np.fromfile(\"neuralhash_128x96_seed1.dat\", dtype=np.float32)\n",
    "\n",
    "# Save to text file\n",
    "np.savetxt(\"projection_matrix.txt\", data, fmt=\"%.8f\")\n",
    "\n",
    "print(f\"✅ Saved {data.size} values to 'projection_matrix.txt'\")\n"
   ]
  },
  {
   "cell_type": "code",
   "execution_count": null,
   "id": "050907f5",
   "metadata": {},
   "outputs": [],
   "source": []
  }
 ],
 "metadata": {
  "kernelspec": {
   "display_name": "base",
   "language": "python",
   "name": "python3"
  },
  "language_info": {
   "codemirror_mode": {
    "name": "ipython",
    "version": 3
   },
   "file_extension": ".py",
   "mimetype": "text/x-python",
   "name": "python",
   "nbconvert_exporter": "python",
   "pygments_lexer": "ipython3",
   "version": "3.12.7"
  }
 },
 "nbformat": 4,
 "nbformat_minor": 5
}
